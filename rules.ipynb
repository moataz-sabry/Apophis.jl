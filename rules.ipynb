{
 "cells": [
  {
   "cell_type": "code",
   "execution_count": 1,
   "metadata": {},
   "outputs": [],
   "source": [
    "using Apophis, BenchmarkTools\n",
    "using Symbolics: build_function, jacobian, derivative, Num, @variables\n",
    "using LinearAlgebra\n",
    "using SparseArrays: sparse, SparseMatrixCSC\n",
    "using DifferentialEquations: ODEProblem, solve\n",
    "using Sundials: CVODE_BDF"
   ]
  },
  {
   "cell_type": "code",
   "execution_count": 62,
   "metadata": {},
   "outputs": [],
   "source": [
    "init(:GRI3, 1000.0, CH4 = 0.05, N2 = 0.75, O2 = 0.20)\n",
    "step!(gas, gas.initial.mass_fractions, gas.initial.temperature)"
   ]
  },
  {
   "cell_type": "code",
   "execution_count": 4,
   "metadata": {},
   "outputs": [
    {
     "data": {
      "text/plain": [
       "53-element Vector{Float64}:\n",
       " 0.0\n",
       " 0.0\n",
       " 0.0\n",
       " 0.0\n",
       " 0.0\n",
       " 0.0\n",
       " 0.0\n",
       " 0.0\n",
       " 0.0\n",
       " 0.0\n",
       " ⋮\n",
       " 0.0\n",
       " 0.0\n",
       " 0.0\n",
       " 0.0\n",
       " 0.0\n",
       " 0.0\n",
       " 0.0\n",
       " 0.0\n",
       " 0.0"
      ]
     },
     "metadata": {},
     "output_type": "display_data"
    }
   ],
   "source": [
    "gas.intermediate.production_rate"
   ]
  },
  {
   "cell_type": "code",
   "execution_count": 16,
   "metadata": {},
   "outputs": [],
   "source": [
    "struct Buff3{T}\n",
    "    # dsds::Tuple{Vector{T},Vector{T}}\n",
    "    # dxdx::Tuple{Diagonal{T,Vector{T}},Diagonal{T,Vector{T}}}\n",
    "    # dxdx::Tuple{Diagonal{T,Vector{T}},Diagonal{T,Vector{T}}}\n",
    "    matrix_vector_multiplication::Tuple{Matrix{T}, Matrix{T}}\n",
    "end"
   ]
  },
  {
   "cell_type": "code",
   "execution_count": 20,
   "metadata": {},
   "outputs": [
    {
     "data": {
      "text/plain": [
       "Buff3{Float64}(([0.0 0.0 … 0.0 0.0; 0.0 0.0 … 0.0 0.0; … ; 0.0 0.0 … 0.0 0.0; 0.0 0.0 … 0.0 0.0], [0.0 0.0 … 0.0 0.0; 0.0 0.0 … 0.0 0.0; … ; 0.0 0.0 … 0.0 0.0; 0.0 0.0 … 0.0 0.0]))"
      ]
     },
     "metadata": {},
     "output_type": "display_data"
    }
   ],
   "source": [
    "const buff5 = Buff3((zeros(53, 325), zeros(53, 325)))"
   ]
  },
  {
   "cell_type": "code",
   "execution_count": 95,
   "metadata": {},
   "outputs": [
    {
     "data": {
      "text/plain": [
       "rule2 (generic function with 2 methods)"
      ]
     },
     "metadata": {},
     "output_type": "display_data"
    }
   ],
   "source": [
    "function rule2(::typeof(*), A, x, dz) # z = A * x\n",
    "    \n",
    "    nA = nothing # size(A, 1)\n",
    "    dA = nothing # @thunk dz * kron(x', I(nA))\n",
    "    dx = dz * A\n",
    "    return dA, dx\n",
    "end"
   ]
  },
  {
   "cell_type": "code",
   "execution_count": 67,
   "metadata": {},
   "outputs": [
    {
     "data": {
      "text/plain": [
       "325-element Vector{Int64}:\n",
       " 1\n",
       " 1\n",
       " 1\n",
       " 2\n",
       " 3\n",
       " 4\n",
       " 5\n",
       " 3\n",
       " 2\n",
       " 5\n",
       " ⋮\n",
       " 3\n",
       " 1\n",
       " 1\n",
       " 2\n",
       " 3\n",
       " 1\n",
       " 1\n",
       " 2\n",
       " 3"
      ]
     },
     "metadata": {},
     "output_type": "display_data"
    }
   ],
   "source": [
    "dz = I(53)\n",
    "A = Array(gas.mechanism.stoichiometric_transpose)\n",
    "x = rand(1:5, 325)"
   ]
  },
  {
   "cell_type": "code",
   "execution_count": 88,
   "metadata": {},
   "outputs": [
    {
     "data": {
      "text/plain": [
       "mult! (generic function with 1 method)"
      ]
     },
     "metadata": {},
     "output_type": "display_data"
    }
   ],
   "source": [
    "c = A*x\n",
    "function mult!(c, A, x)\n",
    "    for (j, i) in gas.mechanism.reactants_indices\n",
    "        c[i, 1] += A[i, j] * x[j, 1]\n",
    "    end\n",
    "end"
   ]
  },
  {
   "cell_type": "code",
   "execution_count": 89,
   "metadata": {},
   "outputs": [
    {
     "ename": "ErrorException",
     "evalue": "iteration is deliberately unsupported for CartesianIndex. Use `I` rather than `I...`, or use `Tuple(I)...`",
     "output_type": "error",
     "traceback": [
      "iteration is deliberately unsupported for CartesianIndex. Use `I` rather than `I...`, or use `Tuple(I)...`\n",
      "\n",
      "Stacktrace:\n",
      "  [1] error(s::String)\n",
      "    @ Base ./error.jl:33\n",
      "  [2] iterate(#unused#::CartesianIndex{2})\n",
      "    @ Base.IteratorsMD ./multidimensional.jl:167\n",
      "  [3] indexed_iterate(I::CartesianIndex{2}, i::Int64)\n",
      "    @ Base ./tuple.jl:92\n",
      "  [4] mult!(c::Vector{Float64}, A::Matrix{Float64}, x::Vector{Int64})\n",
      "    @ Main ~/Developer/Apophis.jl/rules.ipynb:3\n",
      "  [5] var\"##core#464\"()\n",
      "    @ Main ~/.julia/packages/BenchmarkTools/7xSXH/src/execution.jl:489\n",
      "  [6] var\"##sample#465\"(::Tuple{}, __params::BenchmarkTools.Parameters)\n",
      "    @ Main ~/.julia/packages/BenchmarkTools/7xSXH/src/execution.jl:495\n",
      "  [7] _run(b::BenchmarkTools.Benchmark, p::BenchmarkTools.Parameters; verbose::Bool, pad::String, kwargs::Base.Pairs{Symbol, Integer, NTuple{4, Symbol}, NamedTuple{(:samples, :evals, :gctrial, :gcsample), Tuple{Int64, Int64, Bool, Bool}}})\n",
      "    @ BenchmarkTools ~/.julia/packages/BenchmarkTools/7xSXH/src/execution.jl:99\n",
      "  [8] #invokelatest#2\n",
      "    @ ./essentials.jl:718 [inlined]\n",
      "  [9] #run_result#45\n",
      "    @ ~/.julia/packages/BenchmarkTools/7xSXH/src/execution.jl:34 [inlined]\n",
      " [10] run(b::BenchmarkTools.Benchmark, p::BenchmarkTools.Parameters; progressid::Nothing, nleaves::Float64, ndone::Float64, kwargs::Base.Pairs{Symbol, Integer, NTuple{5, Symbol}, NamedTuple{(:verbose, :samples, :evals, :gctrial, :gcsample), Tuple{Bool, Int64, Int64, Bool, Bool}}})\n",
      "    @ BenchmarkTools ~/.julia/packages/BenchmarkTools/7xSXH/src/execution.jl:117\n",
      " [11] #warmup#54\n",
      "    @ ~/.julia/packages/BenchmarkTools/7xSXH/src/execution.jl:169 [inlined]\n",
      " [12] warmup(item::BenchmarkTools.Benchmark)\n",
      "    @ BenchmarkTools ~/.julia/packages/BenchmarkTools/7xSXH/src/execution.jl:169\n",
      " [13] top-level scope\n",
      "    @ ~/.julia/packages/BenchmarkTools/7xSXH/src/execution.jl:575\n",
      " [14] eval\n",
      "    @ ./boot.jl:373 [inlined]\n",
      " [15] include_string(mapexpr::typeof(REPL.softscope), mod::Module, code::String, filename::String)\n",
      "    @ Base ./loading.jl:1196\n",
      " [16] #invokelatest#2\n",
      "    @ ./essentials.jl:716 [inlined]\n",
      " [17] invokelatest\n",
      "    @ ./essentials.jl:714 [inlined]\n",
      " [18] (::VSCodeServer.var\"#164#165\"{VSCodeServer.NotebookRunCellArguments, String})()\n",
      "    @ VSCodeServer ~/.vscode/extensions/julialang.language-julia-1.6.17/scripts/packages/VSCodeServer/src/serve_notebook.jl:19\n",
      " [19] withpath(f::VSCodeServer.var\"#164#165\"{VSCodeServer.NotebookRunCellArguments, String}, path::String)\n",
      "    @ VSCodeServer ~/.vscode/extensions/julialang.language-julia-1.6.17/scripts/packages/VSCodeServer/src/repl.jl:184\n",
      " [20] notebook_runcell_request(conn::VSCodeServer.JSONRPC.JSONRPCEndpoint{Base.PipeEndpoint, Base.PipeEndpoint}, params::VSCodeServer.NotebookRunCellArguments)\n",
      "    @ VSCodeServer ~/.vscode/extensions/julialang.language-julia-1.6.17/scripts/packages/VSCodeServer/src/serve_notebook.jl:13\n",
      " [21] dispatch_msg(x::VSCodeServer.JSONRPC.JSONRPCEndpoint{Base.PipeEndpoint, Base.PipeEndpoint}, dispatcher::VSCodeServer.JSONRPC.MsgDispatcher, msg::Dict{String, Any})\n",
      "    @ VSCodeServer.JSONRPC ~/.vscode/extensions/julialang.language-julia-1.6.17/scripts/packages/JSONRPC/src/typed.jl:67\n",
      " [22] serve_notebook(pipename::String, outputchannel_logger::Base.CoreLogging.SimpleLogger; crashreporting_pipename::String)\n",
      "    @ VSCodeServer ~/.vscode/extensions/julialang.language-julia-1.6.17/scripts/packages/VSCodeServer/src/serve_notebook.jl:136\n",
      " [23] top-level scope\n",
      "    @ ~/.vscode/extensions/julialang.language-julia-1.6.17/scripts/notebook/notebook.jl:32\n",
      " [24] include(mod::Module, _path::String)\n",
      "    @ Base ./Base.jl:418\n",
      " [25] exec_options(opts::Base.JLOptions)\n",
      "    @ Base ./client.jl:292\n",
      " [26] _start()\n",
      "    @ Base ./client.jl:495"
     ]
    }
   ],
   "source": [
    "@btime mult!(c, A, x)\n",
    "@btime A * x\n",
    "@btime mul!(c, A, x)"
   ]
  },
  {
   "cell_type": "code",
   "execution_count": 37,
   "metadata": {},
   "outputs": [
    {
     "data": {
      "text/plain": [
       "Buff2{Int64}(([3, 1, 3], [1, 3, 1]), ([3 0 0; 0 1 0; 0 0 3], [1 0 0; 0 3 0; 0 0 1]))"
      ]
     },
     "metadata": {},
     "output_type": "display_data"
    }
   ],
   "source": [
    "const buff2 = Buff2((a, b), (Diagonal(a), Diagonal(b)))"
   ]
  },
  {
   "cell_type": "code",
   "execution_count": 12,
   "metadata": {},
   "outputs": [
    {
     "ename": "LoadError",
     "evalue": "LoadError: UndefVarError: @thunk not defined\nin expression starting at /Users/sabry/Developer/Apophis.jl/rules.ipynb:78",
     "output_type": "error",
     "traceback": [
      "LoadError: UndefVarError: @thunk not defined\n",
      "in expression starting at /Users/sabry/Developer/Apophis.jl/rules.ipynb:78\n",
      "\n",
      "Stacktrace:\n",
      "  [1] top-level scope\n",
      "    @ :0\n",
      "  [2] eval\n",
      "    @ ./boot.jl:373 [inlined]\n",
      "  [3] include_string(mapexpr::typeof(REPL.softscope), mod::Module, code::String, filename::String)\n",
      "    @ Base ./loading.jl:1196\n",
      "  [4] #invokelatest#2\n",
      "    @ ./essentials.jl:716 [inlined]\n",
      "  [5] invokelatest\n",
      "    @ ./essentials.jl:714 [inlined]\n",
      "  [6] (::VSCodeServer.var\"#164#165\"{VSCodeServer.NotebookRunCellArguments, String})()\n",
      "    @ VSCodeServer ~/.vscode/extensions/julialang.language-julia-1.6.17/scripts/packages/VSCodeServer/src/serve_notebook.jl:19\n",
      "  [7] withpath(f::VSCodeServer.var\"#164#165\"{VSCodeServer.NotebookRunCellArguments, String}, path::String)\n",
      "    @ VSCodeServer ~/.vscode/extensions/julialang.language-julia-1.6.17/scripts/packages/VSCodeServer/src/repl.jl:184\n",
      "  [8] notebook_runcell_request(conn::VSCodeServer.JSONRPC.JSONRPCEndpoint{Base.PipeEndpoint, Base.PipeEndpoint}, params::VSCodeServer.NotebookRunCellArguments)\n",
      "    @ VSCodeServer ~/.vscode/extensions/julialang.language-julia-1.6.17/scripts/packages/VSCodeServer/src/serve_notebook.jl:13\n",
      "  [9] dispatch_msg(x::VSCodeServer.JSONRPC.JSONRPCEndpoint{Base.PipeEndpoint, Base.PipeEndpoint}, dispatcher::VSCodeServer.JSONRPC.MsgDispatcher, msg::Dict{String, Any})\n",
      "    @ VSCodeServer.JSONRPC ~/.vscode/extensions/julialang.language-julia-1.6.17/scripts/packages/JSONRPC/src/typed.jl:67\n",
      " [10] serve_notebook(pipename::String, outputchannel_logger::Base.CoreLogging.SimpleLogger; crashreporting_pipename::String)\n",
      "    @ VSCodeServer ~/.vscode/extensions/julialang.language-julia-1.6.17/scripts/packages/VSCodeServer/src/serve_notebook.jl:136\n",
      " [11] top-level scope\n",
      "    @ ~/.vscode/extensions/julialang.language-julia-1.6.17/scripts/notebook/notebook.jl:32\n",
      " [12] include(mod::Module, _path::String)\n",
      "    @ Base ./Base.jl:418\n",
      " [13] exec_options(opts::Base.JLOptions)\n",
      "    @ Base ./client.jl:292\n",
      " [14] _start()\n",
      "    @ Base ./client.jl:495"
     ]
    }
   ],
   "source": [
    "e(x::AbstractVector{T}) where {T<:Real} = exp.(x)\n",
    "lg(x::AbstractVector{T}) where {T<:Real} = log10.(x)\n",
    "ln(x::T) where {T<:Real} = log(x)\n",
    "Π(A::AbstractMatrix{T}) where {T<:Real} = prod(A, dims=2)\n",
    "\n",
    "function rrule(::typeof(ln), x::T, Δz) where {T<:Real}\n",
    "\n",
    "    dx = Δz * inv(x)\n",
    "    return NoTangent(), dx\n",
    "end\n",
    "\n",
    "function rrule(::typeof(^), x::T, y::T, Δz) where {T<:Real}\n",
    "\n",
    "    dx = Δz * y * x^(y - 1)\n",
    "    dy = Δz * x^y * log(x)\n",
    "    return NoTangent(), dx, dy\n",
    "end\n",
    "\n",
    "\n",
    "function rrule(::typeof(/), x::T, y::T, Δz) where {T<:Real}\n",
    "\n",
    "    dx = Δz * inv(y)\n",
    "    dy = Δz * -x * inv(y)^2\n",
    "    return NoTangent(), dx, dy\n",
    "end\n",
    "\n",
    "function rrule(::typeof(⋅), x::AbstractVector{T}, y::AbstractVector{T}, Δz) where {T<:Real}\n",
    "\n",
    "    z = x ⋅ y\n",
    "    dx = y' * Δz\n",
    "    dy = x' * Δz\n",
    "    return NoTangent(), dx, dy\n",
    "end\n",
    "\n",
    "function rrule(::typeof(e), x::AbstractVector{T}, Δz) where {T<:Real}\n",
    "    z = e(x)\n",
    "    dx = Δz * Diagonal(z)\n",
    "    return NoTangent(), dx\n",
    "end\n",
    "\n",
    "function rrule(::typeof(lg), x::AbstractVector{T}, Δz) where {T<:Real}\n",
    "    z = lg(x)\n",
    "\n",
    "    #d = log(10.0) * x\n",
    "    #map!(x -> iszero(x) ? zero(x) : inv(x), d, d)\n",
    "    #dx = Δz * Diagonal(d)\n",
    "    dx = Δz / Diagonal(log(10) .* x)\n",
    "    return NoTangent(), dx\n",
    "\n",
    "end\n",
    "\n",
    "function rrule(::typeof(.+), x::AbstractVector{T}, y::T, Δz) where {T<:Real}\n",
    "    z = x .+ y\n",
    "    nx = length(x)\n",
    "    dx = Δz * I(nx)\n",
    "    dy = Δz * ones(nx) * sign(y)\n",
    "    return NoTangent(), dx, dy\n",
    "end\n",
    "\n",
    "function rrule(::typeof(.*), x::AbstractVector{T}, y::AbstractVector{T}, Δz) where {T<:Real}\n",
    "    z = x .* y\n",
    "    dx = Δz * Diagonal(y)\n",
    "    dy = Δz * Diagonal(x)\n",
    "    return NoTangent(), dx, dy\n",
    "end\n",
    "\n",
    "function rrule(::typeof(*), x::T, y::AbstractVector{T}, Δz) where {T<:Real}\n",
    "    z = x * y\n",
    "    ny = length(y)\n",
    "    dx = Δz * y\n",
    "    dy = Δz * (x)I(ny)\n",
    "    return NoTangent(), dx, dy\n",
    "end\n",
    "\n",
    "function rrule(::typeof(*), A::AbstractMatrix, x::AbstractVector, Δz)\n",
    "    z = A * x\n",
    "    nA = size(A, 1)\n",
    "    dA = @thunk Δz * kron(x', I(nA))\n",
    "    dx = Δz * A\n",
    "    return NoTangent(), dA, dx\n",
    "end\n",
    "\n",
    "function rrule(::typeof(*), x::AbstractVector{T}, y::T, Δz) where {T<:Real}\n",
    "    z = x * y\n",
    "    nx = length(x)\n",
    "    dx = Δz * (y)I(nx)\n",
    "    dy = Δz * x\n",
    "    return NoTangent(), dx, dy\n",
    "end\n",
    "\n",
    "function rrule(::typeof(*), x::T, y::T, Δz) where {T<:Real}\n",
    "    z = x * y\n",
    "    dx = Δz * y\n",
    "    dy = Δz * x\n",
    "    return NoTangent(), dx, dy\n",
    "end\n",
    "\n",
    "function rrule(::typeof(./), x::AbstractVector{T}, y::AbstractVector{T}, Δz) where {T<:Real}\n",
    "    z = x ./ y\n",
    "    #y⁻¹ = similar(y)\n",
    "    #nxy⁻¹ = similar(y)\n",
    "    #map!(x -> iszero(x) ? zero(x) : inv(x), y⁻¹, y)\n",
    "    #map!((a, b) -> -a * b, nxy⁻¹, z, y⁻¹)\n",
    "    dx = Δz * Diagonal(inv.(y))\n",
    "    dy = Δz * Diagonal(-x ./ y .^ 2)\n",
    "    #dx = Δz * Diagonal(y⁻¹); dy = Δz * Diagonal(nxy⁻¹)\n",
    "    return NoTangent(), dx, dy\n",
    "end\n",
    "\n",
    "function rrule(::typeof(/), x::AbstractVector{T}, y::T, Δz) where {T<:Real}\n",
    "    z = x / y\n",
    "    #nx = length(x)\n",
    "    #y⁻¹ = inv(y)\n",
    "    #xy⁻¹ = z * y⁻¹\n",
    "    #map!(x -> -x, xy⁻¹, xy⁻¹)\n",
    "    dx = Δz * I(length(x)) * inv(y)\n",
    "    dy = Δz * (-x ./ y .^ 2)\n",
    "    #dx = Δz * (y⁻¹)I(nx); dy = Δz * xy⁻¹\n",
    "    return NoTangent(), dx, dy\n",
    "end\n",
    "\n",
    "function rrule(::typeof(./), x::T, y::AbstractVector{T}, Δz) where {T<:Real}\n",
    "    z = x ./ y\n",
    "    #y⁻¹ = similar(y)\n",
    "    #nxy⁻¹ = similar(y)\n",
    "    #map!(x -> iszero(x) ? zero(x) : inv(x), y⁻¹, y)\n",
    "    #map!((a, b) -> -a * b, nxy⁻¹, z, y⁻¹)\n",
    "    invY = inv.(y)\n",
    "    invY[isinf.(invY)] .= 0\n",
    "    dx = Δz * invY\n",
    "    dy = Δz * Diagonal(-x ./ y .^ 2)\n",
    "    #dx = Δz * y⁻¹; dy = Δz * Diagonal(nxy⁻¹)\n",
    "    return NoTangent(), dx, dy\n",
    "end\n",
    "\n",
    "function rrule(::typeof(.^), x::T, y::AbstractVector{T}, Δz) where {T<:Real}\n",
    "\n",
    "    #z = x .^ y\n",
    "    #Δ = similar(y)\n",
    "    #δ = z * log(x)\n",
    "    #map!((a, b) -> a * b * inv(x), Δ, z, y)\n",
    "    #\n",
    "    #dx = @thunk Δz * Δ\n",
    "    #dy = Δz * Diagonal(δ)\n",
    "    dx = Δz * (y .* x .^ (y .- 1.0))\n",
    "    dy = Δz * Diagonal(x .^ y .* log.(x))\n",
    "    return NoTangent(), dx, dy\n",
    "end\n",
    "\n",
    "function rrule(::typeof(.^), x::AbstractVector{T}, y::T, Δz) where {T<:Real}\n",
    "\n",
    "    #z = x .^ y\n",
    "    #Δ = similar(x)\n",
    "    #δ = similar(x)\n",
    "    #map!((a, b) -> iszero(b) ? zero(b) : y * a * inv(b), Δ, z, x)\n",
    "    #map!((a, b) -> iszero(b) ? zero(b) : a * log(abs(b)), δ, z, x)\n",
    "    #\n",
    "    #dx = Δz * Diagonal(Δ)\n",
    "    #dy = @thunk Δz * δ\n",
    "    dx = Δz * Diagonal(y .* x .^ (y .- 1.0))\n",
    "    return NoTangent(), dx, nothing\n",
    "end\n",
    "\n",
    "#function rrule(::typeof(.^), x, A::AbstractMatrix{T}, Δz) where T<:Real\n",
    "#    \n",
    "#    z = x .^ A\n",
    "#        \n",
    "#    ni = size(A, 1); nj = size(A, 2)\n",
    "#    Δx = spzeros(ni * nj, nj)\n",
    "#    ΔA = (1.0)I(ni * nj)\n",
    "#    k = 0\n",
    "#\n",
    "#    for j in 1:nj, i in 1:ni\n",
    "#        k += 1\n",
    "#        iszero(x[j]) ? Δx[i + ni * (j - 1), j] = zero(x[j]) : \n",
    "#        Δx[i + ni * (j - 1), j] = A[i, j] * z[i, j] * inv(x[j]) \n",
    "#        iszero(x[j]) ? ΔA[k, k] = zero(x[j]) : ΔA[k, k] = z[i, j] * log(abs(x[j]))\n",
    "#    end\n",
    "#\n",
    "#    dx = Δz * Δx\n",
    "#    dA = @thunk Δz * ΔA\n",
    "#\n",
    "#    return NoTangent(), dx, dA\n",
    "#end\n",
    "\n",
    "function rrule(::typeof(.^), x, y::AbstractMatrix{T}, z̄) where {T<:Real}\n",
    "    #vectorized power \n",
    "    z = x .^ y\n",
    "\n",
    "    x̄ = y .* x .^ (y .- 1.0)\n",
    "    ȳ = z .* log.(abs.(x))\n",
    "    x̄[isnan.(x̄)] .= 0\n",
    "    ȳ[isnan.(ȳ)] .= 0\n",
    "    ȳ[isinf.(ȳ)] .= 0\n",
    "\n",
    "    m = size(y, 1)\n",
    "    n = size(y, 2)\n",
    "    dx = spzeros(n * m, n)\n",
    "    dy = (1.0)I(n * m)\n",
    "\n",
    "    for j in 1:n\n",
    "        for i in 1:m\n",
    "            dx[i+m*(j-1), j] = x̄[i, j]\n",
    "        end\n",
    "    end\n",
    "\n",
    "    for i in 1:n*m\n",
    "        dy[i, i] = ȳ[i]\n",
    "    end\n",
    "\n",
    "    xbar = z̄ * dx\n",
    "    ybar = z̄ * dy\n",
    "\n",
    "    return NoTangent(), xbar, ybar\n",
    "end\n",
    "\n",
    "#function rrule(::typeof(Π), A::AbstractMatrix{T}, Δz) where T<:Real\n",
    "#\n",
    "#    z = Π(A)\n",
    "#        \n",
    "#    prod = one(T)\n",
    "#    ni = size(A, 1); nj = size(A, 2)\n",
    "#    ΔA = zeros(ni, ni * nj)\n",
    "#\n",
    "#    for i in 1:ni, j in 1:nj\n",
    "#            prod = one(T)\n",
    "#            for k in 1:nj\n",
    "#                j == k ? continue : prod *= A[i, k]\n",
    "#            end\n",
    "#            ΔA[i, (j - 1)ni + i] = prod\n",
    "#    end\n",
    "#    dA = Δz * ΔA\n",
    "#    return NoTangent(), dA\n",
    "#end\n",
    "\n",
    "function rrule(::typeof(Π), A::AbstractMatrix{T}, Δz) where {T<:Real}\n",
    "    #vectorized power \n",
    "    z = Π(A)\n",
    "\n",
    "\n",
    "    x̄ = similar(A)\n",
    "    for i in 1:size(A, 2)\n",
    "        @views prod!(x̄[:, i], A[:, 1:end.!=i])\n",
    "    end\n",
    "    #x̄[isnan.(x̄)] .= 0\n",
    "\n",
    "    n = size(A, 1)\n",
    "    m = size(A, 2)\n",
    "    M = zeros(n, n * m)\n",
    "\n",
    "    for i in 1:n\n",
    "        for j in 1:m\n",
    "            M[i, (j-1)n+i] = x̄[(j-1)n+i]\n",
    "        end\n",
    "    end\n",
    "\n",
    "    Ā = Δz * M\n",
    "    return NoTangent(), Ā\n",
    "end"
   ]
  },
  {
   "cell_type": "code",
   "execution_count": 13,
   "metadata": {},
   "outputs": [
    {
     "data": {
      "text/plain": [
       "rule (generic function with 1 method)"
      ]
     },
     "metadata": {},
     "output_type": "display_data"
    }
   ],
   "source": [
    "function rule(::typeof(⋅), x::Vector{T}, y::Vector{T}, dz::T) where {T<:Real}\n",
    "\n",
    "    dx = first(buffs.dsds)\n",
    "    dy = last(buffs.dsds)\n",
    "\n",
    "    for i in eachindex(x)\n",
    "        dx[i] = y[i] * dz\n",
    "        dy[i] = x[i] * dz\n",
    "    end\n",
    "\n",
    "    return nothing\n",
    "end"
   ]
  },
  {
   "cell_type": "code",
   "execution_count": 84,
   "metadata": {},
   "outputs": [
    {
     "data": {
      "text/plain": [
       "rule (generic function with 4 methods)"
      ]
     },
     "metadata": {},
     "output_type": "display_data"
    }
   ],
   "source": [
    "e(x::AbstractVector{T}) where {T<:Real} = exp.(x)\n",
    "\n",
    "function rule(::typeof(e), x::Vector{T}, dz::Matrix{T}) where {T<:Real}\n",
    "\n",
    "    dx = first(buff2.dxdx)\n",
    "    for i in eachindex(x)\n",
    "        d = 4i - 3\n",
    "        dx[d] = dz[d] * x[i]\n",
    "    end\n",
    "    return nothing\n",
    "end"
   ]
  },
  {
   "cell_type": "code",
   "execution_count": null,
   "metadata": {},
   "outputs": [],
   "source": [
    "function rrule(::typeof(.*), x::Vector{T}, y::Vector{T}, Δz::Matrix{T}) where {T<:Real}\n",
    "    z = x .* y\n",
    "    dx = Δz * Diagonal(y)\n",
    "    dy = Δz * Diagonal(x)\n",
    "    return NoTangent(), dx, dy\n",
    "end"
   ]
  },
  {
   "cell_type": "code",
   "execution_count": 85,
   "metadata": {},
   "outputs": [
    {
     "data": {
      "text/plain": [
       "3-element Vector{Int64}:\n",
       " 2\n",
       " 3\n",
       " 3"
      ]
     },
     "metadata": {},
     "output_type": "display_data"
    }
   ],
   "source": [
    "a = rand(1:3, 3)\n",
    "b = rand(1:3, 3)"
   ]
  },
  {
   "cell_type": "code",
   "execution_count": 86,
   "metadata": {},
   "outputs": [
    {
     "data": {
      "text/plain": [
       "3×3 Matrix{Int64}:\n",
       " 1  2  3\n",
       " 4  5  6\n",
       " 7  8  9"
      ]
     },
     "metadata": {},
     "output_type": "display_data"
    }
   ],
   "source": [
    "dz = [1 2 3; 4 5 6; 7 8 9]"
   ]
  },
  {
   "cell_type": "code",
   "execution_count": 87,
   "metadata": {},
   "outputs": [],
   "source": [
    "rule(e, a, dz)"
   ]
  },
  {
   "cell_type": "code",
   "execution_count": 88,
   "metadata": {},
   "outputs": [
    {
     "data": {
      "text/plain": [
       "3-element Vector{Int64}:\n",
       " 3\n",
       " 2\n",
       " 3"
      ]
     },
     "metadata": {},
     "output_type": "display_data"
    }
   ],
   "source": [
    "a"
   ]
  },
  {
   "cell_type": "code",
   "execution_count": 89,
   "metadata": {},
   "outputs": [
    {
     "data": {
      "text/plain": [
       "3×3 Diagonal{Int64, Vector{Int64}}:\n",
       " 3   ⋅   ⋅\n",
       " ⋅  10   ⋅\n",
       " ⋅   ⋅  27"
      ]
     },
     "metadata": {},
     "output_type": "display_data"
    }
   ],
   "source": [
    "first(buff2.dxdx)"
   ]
  },
  {
   "cell_type": "code",
   "execution_count": null,
   "metadata": {},
   "outputs": [],
   "source": [
    "function rates((; current, intermediate, mechanism)::Gas)\n",
    "\n",
    "    nt = length(mechanism.threebody_reactions)\n",
    "    ne = length(mechanism.elementary_reactions)\n",
    "    threebody_range = ne+1:ne+nt\n",
    "\n",
    "    W⁻¹ = mechanism.inverse_molecular_weight\n",
    "    Y = current.mass_fractions\n",
    "    X = current.molar_fractions\n",
    "    reactantsindices = mechanism.reactants_indices\n",
    "    productsindices = mechanism.products_indices\n",
    "    C = current.molar_concentration\n",
    "    W = mechanism.molecular_weight\n",
    "\n",
    "    nur = mechanism.stoichiometric_reactants\n",
    "    nup = mechanism.stoichiometric_products\n",
    "    nut = mechanism.stoichiometric_transpose\n",
    "\n",
    "    cᵥ = intermediate.heat_capacity_volume\n",
    "    u = intermediate.internal_energy\n",
    "    kf = intermediate.forward_rate_constant\n",
    "    kr = intermediate.reverse_rate_constant\n",
    "    M = view(intermediate.total_molar_concentration, 1:nt)\n",
    "    q = intermediate.rate_of_progress\n",
    "    ω̇ = intermediate.production_rate\n",
    "    Ẏ = intermediate.mass_change_rate\n",
    "    Ṫ = intermediate.temperature_change_rate\n",
    "\n",
    "    ρ = current.density\n",
    "\n",
    "    @inbounds for ci in reactantsindices ## combine into one function\n",
    "        i, j = Tuple(ci)\n",
    "        kf[i] *= C[j]^nur[ci]\n",
    "    end\n",
    "\n",
    "    @inbounds for ci in productsindices\n",
    "        i, j = Tuple(ci)\n",
    "        kr[i] *= C[j]^nup[ci]\n",
    "    end\n",
    "\n",
    "    for k in eachindex(q)\n",
    "        q[k] = kf[k] - kr[k]\n",
    "        k ∈ threebody_range && (q[k] *= M[k-ne])\n",
    "    end\n",
    "\n",
    "    mul!(ω̇, nut, q)\n",
    "\n",
    "    W̅ = inv(Y ⋅ W⁻¹)\n",
    "    c̅ᵥ = cᵥ ⋅ X / W̅\n",
    "\n",
    "    for i in eachindex(Ẏ)\n",
    "        Ẏ[i] = ω̇[i] * W[i] / ρ\n",
    "    end\n",
    "\n",
    "    Ṫ[1] = -(ω̇ ⋅ u) / (ρ * c̅ᵥ) ## worth it?\n",
    "\n",
    "    return nothing\n",
    "end"
   ]
  }
 ],
 "metadata": {
  "kernelspec": {
   "display_name": "Julia 1.7.2",
   "language": "julia",
   "name": "julia-1.7"
  },
  "language_info": {
   "file_extension": ".jl",
   "mimetype": "application/julia",
   "name": "julia",
   "version": "1.7.2"
  },
  "orig_nbformat": 4
 },
 "nbformat": 4,
 "nbformat_minor": 2
}
