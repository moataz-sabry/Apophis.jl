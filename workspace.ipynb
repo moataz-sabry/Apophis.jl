{
 "cells": [
  {
   "cell_type": "code",
   "execution_count": 3,
   "metadata": {},
   "outputs": [
    {
     "name": "stderr",
     "output_type": "stream",
     "text": [
      "\u001b[91m\u001b[1mERROR: \u001b[22m\u001b[39mLoadError: syntax: all-underscore identifier used as rvalue\n",
      "Stacktrace:\n",
      "  [1] top-level scope\n",
      "\u001b[90m    @ \u001b[39m\u001b[90m~/Developer/Apophis.jl/src/\u001b[39m\u001b[90m\u001b[4mforward.jl:51\u001b[24m\u001b[39m\n",
      "  [2] \u001b[0m\u001b[1minclude\u001b[22m\u001b[0m\u001b[1m(\u001b[22m\u001b[90mmod\u001b[39m::\u001b[0mModule, \u001b[90m_path\u001b[39m::\u001b[0mString\u001b[0m\u001b[1m)\u001b[22m\n",
      "\u001b[90m    @ \u001b[39m\u001b[90mBase\u001b[39m \u001b[90m./\u001b[39m\u001b[90m\u001b[4mBase.jl:418\u001b[24m\u001b[39m\n",
      "  [3] \u001b[0m\u001b[1minclude\u001b[22m\u001b[0m\u001b[1m(\u001b[22m\u001b[90mx\u001b[39m::\u001b[0mString\u001b[0m\u001b[1m)\u001b[22m\n",
      "\u001b[90m    @ \u001b[39m\u001b[35mApophis\u001b[39m \u001b[90m~/Developer/Apophis.jl/src/\u001b[39m\u001b[90m\u001b[4mApophis.jl:1\u001b[24m\u001b[39m\n",
      "  [4] top-level scope\n",
      "\u001b[90m    @ \u001b[39m\u001b[90m~/Developer/Apophis.jl/src/\u001b[39m\u001b[90m\u001b[4mApophis.jl:24\u001b[24m\u001b[39m\n",
      "  [5] \u001b[0m\u001b[1minclude\u001b[22m\n",
      "\u001b[90m    @ \u001b[39m\u001b[90m./\u001b[39m\u001b[90m\u001b[4mBase.jl:418\u001b[24m\u001b[39m\u001b[90m [inlined]\u001b[39m\n",
      "  [6] \u001b[0m\u001b[1minclude_package_for_output\u001b[22m\u001b[0m\u001b[1m(\u001b[22m\u001b[90mpkg\u001b[39m::\u001b[0mBase.PkgId, \u001b[90minput\u001b[39m::\u001b[0mString, \u001b[90mdepot_path\u001b[39m::\u001b[0mVector\u001b[90m{String}\u001b[39m, \u001b[90mdl_load_path\u001b[39m::\u001b[0mVector\u001b[90m{String}\u001b[39m, \u001b[90mload_path\u001b[39m::\u001b[0mVector\u001b[90m{String}\u001b[39m, \u001b[90mconcrete_deps\u001b[39m::\u001b[0mVector\u001b[90m{Pair{Base.PkgId, UInt64}}\u001b[39m, \u001b[90msource\u001b[39m::\u001b[0mString\u001b[0m\u001b[1m)\u001b[22m\n",
      "\u001b[90m    @ \u001b[39m\u001b[90mBase\u001b[39m \u001b[90m./\u001b[39m\u001b[90m\u001b[4mloading.jl:1318\u001b[24m\u001b[39m\n",
      "  [7] top-level scope\n",
      "\u001b[90m    @ \u001b[39m\u001b[90m\u001b[4mnone:1\u001b[24m\u001b[39m\n",
      "  [8] \u001b[0m\u001b[1meval\u001b[22m\n",
      "\u001b[90m    @ \u001b[39m\u001b[90m./\u001b[39m\u001b[90m\u001b[4mboot.jl:373\u001b[24m\u001b[39m\u001b[90m [inlined]\u001b[39m\n",
      "  [9] \u001b[0m\u001b[1meval\u001b[22m\u001b[0m\u001b[1m(\u001b[22m\u001b[90mx\u001b[39m::\u001b[0mExpr\u001b[0m\u001b[1m)\u001b[22m\n",
      "\u001b[90m    @ \u001b[39m\u001b[90mBase.MainInclude\u001b[39m \u001b[90m./\u001b[39m\u001b[90m\u001b[4mclient.jl:453\u001b[24m\u001b[39m\n",
      " [10] top-level scope\n",
      "\u001b[90m    @ \u001b[39m\u001b[90m\u001b[4mnone:1\u001b[24m\u001b[39m\n",
      "in expression starting at /Users/sabry/Developer/Apophis.jl/src/forward.jl:51\n",
      "in expression starting at /Users/sabry/Developer/Apophis.jl/src/Apophis.jl:1\n",
      "\u001b[32m\u001b[1mPrecompiling\u001b[22m\u001b[39m project...\n",
      "\u001b[91m  ✗ \u001b[39m\u001b[90mCpuId\u001b[39m\n",
      "\u001b[91m  ✗ \u001b[39mApophis\n",
      "  0 dependencies successfully precompiled in 19 seconds (173 already precompiled)\n",
      "\n"
     ]
    }
   ],
   "source": [
    "using Apophis, BenchmarkTools\n",
    "using Symbolics: build_function, jacobian, derivative, Num, @variables\n",
    "using LinearAlgebra\n",
    "using SparseArrays: sparse, SparseMatrixCSC\n",
    "using DifferentialEquations: ODEProblem, solve\n",
    "using Sundials: CVODE_BDF"
   ]
  },
  {
   "cell_type": "code",
   "execution_count": 4,
   "metadata": {},
   "outputs": [],
   "source": [
    "#init(:H2, 1000.0, 1.59e6, H2 = 0.29, N2 = 0.56, O2 = 0.15)\n",
    "init(:GRI3, 1000.0, CH4 = 0.05, N2 = 0.75, O2 = 0.20)\n",
    "#init(:H2, T₀, P₀, Y₀);\n",
    "#init(:GRI3, T₀, P₀, Y₀)"
   ]
  },
  {
   "cell_type": "code",
   "execution_count": 3,
   "metadata": {},
   "outputs": [
    {
     "ename": "UndefVarError",
     "evalue": "UndefVarError: step! not defined",
     "output_type": "error",
     "traceback": [
      "UndefVarError: step! not defined\n",
      "\n",
      "Stacktrace:\n",
      "  [1] top-level scope\n",
      "    @ ~/Developer/Apophis.jl/workspace.ipynb:1\n",
      "  [2] eval\n",
      "    @ ./boot.jl:373 [inlined]\n",
      "  [3] include_string(mapexpr::typeof(REPL.softscope), mod::Module, code::String, filename::String)\n",
      "    @ Base ./loading.jl:1196\n",
      "  [4] #invokelatest#2\n",
      "    @ ./essentials.jl:716 [inlined]\n",
      "  [5] invokelatest\n",
      "    @ ./essentials.jl:714 [inlined]\n",
      "  [6] (::VSCodeServer.var\"#164#165\"{VSCodeServer.NotebookRunCellArguments, String})()\n",
      "    @ VSCodeServer ~/.vscode/extensions/julialang.language-julia-1.6.17/scripts/packages/VSCodeServer/src/serve_notebook.jl:19\n",
      "  [7] withpath(f::VSCodeServer.var\"#164#165\"{VSCodeServer.NotebookRunCellArguments, String}, path::String)\n",
      "    @ VSCodeServer ~/.vscode/extensions/julialang.language-julia-1.6.17/scripts/packages/VSCodeServer/src/repl.jl:184\n",
      "  [8] notebook_runcell_request(conn::VSCodeServer.JSONRPC.JSONRPCEndpoint{Base.PipeEndpoint, Base.PipeEndpoint}, params::VSCodeServer.NotebookRunCellArguments)\n",
      "    @ VSCodeServer ~/.vscode/extensions/julialang.language-julia-1.6.17/scripts/packages/VSCodeServer/src/serve_notebook.jl:13\n",
      "  [9] dispatch_msg(x::VSCodeServer.JSONRPC.JSONRPCEndpoint{Base.PipeEndpoint, Base.PipeEndpoint}, dispatcher::VSCodeServer.JSONRPC.MsgDispatcher, msg::Dict{String, Any})\n",
      "    @ VSCodeServer.JSONRPC ~/.vscode/extensions/julialang.language-julia-1.6.17/scripts/packages/JSONRPC/src/typed.jl:67\n",
      " [10] serve_notebook(pipename::String, outputchannel_logger::Base.CoreLogging.SimpleLogger; crashreporting_pipename::String)\n",
      "    @ VSCodeServer ~/.vscode/extensions/julialang.language-julia-1.6.17/scripts/packages/VSCodeServer/src/serve_notebook.jl:136\n",
      " [11] top-level scope\n",
      "    @ ~/.vscode/extensions/julialang.language-julia-1.6.17/scripts/notebook/notebook.jl:32\n",
      " [12] include(mod::Module, _path::String)\n",
      "    @ Base ./Base.jl:418\n",
      " [13] exec_options(opts::Base.JLOptions)\n",
      "    @ Base ./client.jl:292\n",
      " [14] _start()\n",
      "    @ Base ./client.jl:495"
     ]
    }
   ],
   "source": [
    "step!(gas)"
   ]
  },
  {
   "cell_type": "code",
   "execution_count": null,
   "metadata": {},
   "outputs": [],
   "source": []
  }
 ],
 "metadata": {
  "kernelspec": {
   "display_name": "Julia 1.7.2",
   "language": "julia",
   "name": "julia-1.7"
  },
  "language_info": {
   "file_extension": ".jl",
   "mimetype": "application/julia",
   "name": "julia",
   "version": "1.7.2"
  },
  "orig_nbformat": 4
 },
 "nbformat": 4,
 "nbformat_minor": 2
}
