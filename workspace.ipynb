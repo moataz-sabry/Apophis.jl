{
 "cells": [
  {
   "cell_type": "code",
   "execution_count": 1,
   "metadata": {},
   "outputs": [],
   "source": [
    "using Apophis, BenchmarkTools\n",
    "using Symbolics: build_function, jacobian, derivative, Num, @variables"
   ]
  },
  {
   "cell_type": "code",
   "execution_count": 2,
   "metadata": {},
   "outputs": [],
   "source": [
    "# P₀ = only(@variables P₀)\n",
    "# T = only(@variables T)\n",
    "# Y = collect(only(@variables Y[1:10]));\n",
    "# T₀ = only(@variables T₀)\n",
    "# Y₀ = collect(only(@variables Y₀[1:10]));"
   ]
  },
  {
   "cell_type": "code",
   "execution_count": 3,
   "metadata": {},
   "outputs": [],
   "source": [
    "init(:H2, 1000.0, 1.59e6, H2 = 0.29, N2 = 0.56, O2 = 0.15)\n",
    "#init(:GRI3, 1000.0, CH4 = 0.5, N2 = 0.75, O2 = 0.20)\n",
    "#init(:H2, T₀, P₀, Y₀);"
   ]
  },
  {
   "cell_type": "code",
   "execution_count": 4,
   "metadata": {},
   "outputs": [],
   "source": [
    "## Symbolically\n",
    "#step!(gas, Y₀, T₀)\n",
    "#step!(gas, Y, T)\n",
    "\n",
    "## Numerically\n",
    "step!(gas, gas.initial.mass_fractions, gas.initial.temperature)\n",
    "#step!(gas, gas.current.mass_fractions, gas.current.temperature)"
   ]
  },
  {
   "cell_type": "markdown",
   "metadata": {},
   "source": [
    "### $$ A = \\begin{bmatrix} \\bm{a} & \\bm{b}\\\\ \\bm{c} &d \\end{bmatrix} $$ \n",
    "\n",
    "$$ \\bm{a} = \\frac{∂\\bm{Ẏ}}{∂\\bm{Y}}\\ \\ [ns\\times ns], \\ \\ \\bm{b} = \\frac{d\\bm{Ẏ}}{dT}\\ \\ [ns\\times 1]$$\n",
    "$$ \\bm{c} = \\frac{d\\bm{Ẏ}}{dT} \\ \\ [1\\times ns], \\ \\ d =  \\frac{dṪ}{dT}\\ \\ [1\\times 1]$$"
   ]
  },
  {
   "cell_type": "code",
   "execution_count": 7,
   "metadata": {},
   "outputs": [],
   "source": [
    "dṪ = only(gas.intermediate.temperature_change_rate)\n",
    "dẎ = gas.intermediate.mass_change_rate\n",
    "q = vcat(dẎ, dṪ)\n",
    "u = vcat(Y, T)\n",
    "\n",
    "A = jacobian(q, u);\n",
    "_, A_expr = build_function(A, Y, T, Y₀, T₀, P₀)\n",
    "A_function = eval(A_expr);"
   ]
  },
  {
   "cell_type": "code",
   "execution_count": 18,
   "metadata": {},
   "outputs": [
    {
     "name": "stdout",
     "output_type": "stream",
     "text": [
      "  0.001944 seconds (2 allocations: 288 bytes)\n"
     ]
    }
   ],
   "source": [
    "#A = zeros(11, 11)\n",
    "#A_function(A, ones(10), 1200.0, ones(10), 1300.0, 1000)"
   ]
  },
  {
   "cell_type": "code",
   "execution_count": 8,
   "metadata": {},
   "outputs": [],
   "source": [
    "open(\"./jac/H2.jl\", \"a\") do io\n",
    "   println(io, A_expr)\n",
    "   #replace(io, \"(ˍ₋out, ˍ₋arg1, T, ˍ₋arg3, T₀, P₀)\" => \"jac(ˍ₋out, ˍ₋arg1, T, ˍ₋arg3, T₀, P₀)\")\n",
    "end"
   ]
  },
  {
   "cell_type": "markdown",
   "metadata": {},
   "source": [
    "### <center>Jacobian Trials</center>"
   ]
  },
  {
   "cell_type": "code",
   "execution_count": 5,
   "metadata": {},
   "outputs": [
    {
     "data": {
      "text/plain": [
       "11×11 Matrix{Float64}:\n",
       " 0.0  0.0  0.0  0.0  0.0  0.0  0.0  0.0  0.0  0.0  0.0\n",
       " 0.0  0.0  0.0  0.0  0.0  0.0  0.0  0.0  0.0  0.0  0.0\n",
       " 0.0  0.0  0.0  0.0  0.0  0.0  0.0  0.0  0.0  0.0  0.0\n",
       " 0.0  0.0  0.0  0.0  0.0  0.0  0.0  0.0  0.0  0.0  0.0\n",
       " 0.0  0.0  0.0  0.0  0.0  0.0  0.0  0.0  0.0  0.0  0.0\n",
       " 0.0  0.0  0.0  0.0  0.0  0.0  0.0  0.0  0.0  0.0  0.0\n",
       " 0.0  0.0  0.0  0.0  0.0  0.0  0.0  0.0  0.0  0.0  0.0\n",
       " 0.0  0.0  0.0  0.0  0.0  0.0  0.0  0.0  0.0  0.0  0.0\n",
       " 0.0  0.0  0.0  0.0  0.0  0.0  0.0  0.0  0.0  0.0  0.0\n",
       " 0.0  0.0  0.0  0.0  0.0  0.0  0.0  0.0  0.0  0.0  0.0\n",
       " 0.0  0.0  0.0  0.0  0.0  0.0  0.0  0.0  0.0  0.0  0.0"
      ]
     },
     "metadata": {},
     "output_type": "display_data"
    }
   ],
   "source": [
    "A = zeros(11, 11)"
   ]
  },
  {
   "cell_type": "code",
   "execution_count": 7,
   "metadata": {},
   "outputs": [
    {
     "data": {
      "text/plain": [
       "jac (generic function with 1 method)"
      ]
     },
     "metadata": {},
     "output_type": "display_data"
    }
   ],
   "source": [
    "include(\"/Users/sabry/Developer/Apophis/jac/H2.jl\")"
   ]
  },
  {
   "cell_type": "code",
   "execution_count": 8,
   "metadata": {},
   "outputs": [],
   "source": [
    "jac(A, gas.initial.mass_fractions, gas.initial.temperature, gas.initial.mass_fractions, gas.initial.temperature, gas.initial.pressure)"
   ]
  },
  {
   "cell_type": "code",
   "execution_count": null,
   "metadata": {},
   "outputs": [],
   "source": []
  }
 ],
 "metadata": {
  "kernelspec": {
   "display_name": "Julia 1.7.1",
   "language": "julia",
   "name": "julia-1.7"
  },
  "language_info": {
   "file_extension": ".jl",
   "mimetype": "application/julia",
   "name": "julia",
   "version": "1.7.1"
  },
  "orig_nbformat": 4
 },
 "nbformat": 4,
 "nbformat_minor": 2
}
