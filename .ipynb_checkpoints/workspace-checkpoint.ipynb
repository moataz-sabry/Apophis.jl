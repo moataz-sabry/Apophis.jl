{
 "cells": [
  {
   "cell_type": "code",
   "execution_count": 1,
   "metadata": {},
   "outputs": [
    {
     "name": "stderr",
     "output_type": "stream",
     "text": [
      "┌ Info: Precompiling Apophis [cf72b054-1e85-4718-a3f4-02cfdc10a054]\n",
      "└ @ Base loading.jl:1423\n",
      "\u001b[91m\u001b[1mERROR: \u001b[22m\u001b[39mLoadError: ArgumentError: Package StatsFuns does not have HypergeometricFunctions in its dependencies:\n",
      "- If you have StatsFuns checked out for development and have\n",
      "  added HypergeometricFunctions as a dependency but haven't updated your primary\n",
      "  environment's manifest file, try `Pkg.resolve()`.\n",
      "- Otherwise you may need to report an issue with StatsFuns\n",
      "Stacktrace:\n",
      "  [1] \u001b[0m\u001b[1mrequire\u001b[22m\u001b[0m\u001b[1m(\u001b[22m\u001b[90minto\u001b[39m::\u001b[0mModule, \u001b[90mmod\u001b[39m::\u001b[0mSymbol\u001b[0m\u001b[1m)\u001b[22m\n",
      "\u001b[90m    @ \u001b[39m\u001b[90mBase\u001b[39m \u001b[90m.\\\u001b[39m\u001b[90m\u001b[4mloading.jl:980\u001b[24m\u001b[39m\n",
      "  [2] \u001b[0m\u001b[1minclude\u001b[22m\u001b[0m\u001b[1m(\u001b[22m\u001b[90mmod\u001b[39m::\u001b[0mModule, \u001b[90m_path\u001b[39m::\u001b[0mString\u001b[0m\u001b[1m)\u001b[22m\n",
      "\u001b[90m    @ \u001b[39m\u001b[90mBase\u001b[39m \u001b[90m.\\\u001b[39m\u001b[90m\u001b[4mBase.jl:418\u001b[24m\u001b[39m\n",
      "  [3] \u001b[0m\u001b[1minclude\u001b[22m\u001b[0m\u001b[1m(\u001b[22m\u001b[90mx\u001b[39m::\u001b[0mString\u001b[0m\u001b[1m)\u001b[22m\n",
      "\u001b[90m    @ \u001b[39m\u001b[35mStatsFuns\u001b[39m \u001b[90mC:\\Users\\m7mdf\\.julia\\packages\\StatsFuns\\PAbJ9\\src\\\u001b[39m\u001b[90m\u001b[4mStatsFuns.jl:3\u001b[24m\u001b[39m\n",
      "  [4] top-level scope\n",
      "\u001b[90m    @ \u001b[39m\u001b[90mC:\\Users\\m7mdf\\.julia\\packages\\StatsFuns\\PAbJ9\\src\\\u001b[39m\u001b[90m\u001b[4mStatsFuns.jl:251\u001b[24m\u001b[39m\n",
      "  [5] \u001b[0m\u001b[1minclude\u001b[22m\n",
      "\u001b[90m    @ \u001b[39m\u001b[90m.\\\u001b[39m\u001b[90m\u001b[4mBase.jl:418\u001b[24m\u001b[39m\u001b[90m [inlined]\u001b[39m\n",
      "  [6] \u001b[0m\u001b[1minclude_package_for_output\u001b[22m\u001b[0m\u001b[1m(\u001b[22m\u001b[90mpkg\u001b[39m::\u001b[0mBase.PkgId, \u001b[90minput\u001b[39m::\u001b[0mString, \u001b[90mdepot_path\u001b[39m::\u001b[0mVector\u001b[90m{String}\u001b[39m, \u001b[90mdl_load_path\u001b[39m::\u001b[0mVector\u001b[90m{String}\u001b[39m, \u001b[90mload_path\u001b[39m::\u001b[0mVector\u001b[90m{String}\u001b[39m, \u001b[90mconcrete_deps\u001b[39m::\u001b[0mVector\u001b[90m{Pair{Base.PkgId, UInt64}}\u001b[39m, \u001b[90msource\u001b[39m::\u001b[0mString\u001b[0m\u001b[1m)\u001b[22m\n",
      "\u001b[90m    @ \u001b[39m\u001b[90mBase\u001b[39m \u001b[90m.\\\u001b[39m\u001b[90m\u001b[4mloading.jl:1318\u001b[24m\u001b[39m\n",
      "  [7] top-level scope\n",
      "\u001b[90m    @ \u001b[39m\u001b[90m\u001b[4mnone:1\u001b[24m\u001b[39m\n",
      "  [8] \u001b[0m\u001b[1meval\u001b[22m\n",
      "\u001b[90m    @ \u001b[39m\u001b[90m.\\\u001b[39m\u001b[90m\u001b[4mboot.jl:373\u001b[24m\u001b[39m\u001b[90m [inlined]\u001b[39m\n",
      "  [9] \u001b[0m\u001b[1meval\u001b[22m\u001b[0m\u001b[1m(\u001b[22m\u001b[90mx\u001b[39m::\u001b[0mExpr\u001b[0m\u001b[1m)\u001b[22m\n",
      "\u001b[90m    @ \u001b[39m\u001b[90mBase.MainInclude\u001b[39m \u001b[90m.\\\u001b[39m\u001b[90m\u001b[4mclient.jl:453\u001b[24m\u001b[39m\n",
      " [10] top-level scope\n",
      "\u001b[90m    @ \u001b[39m\u001b[90m\u001b[4mnone:1\u001b[24m\u001b[39m\n",
      "in expression starting at C:\\Users\\m7mdf\\.julia\\packages\\StatsFuns\\PAbJ9\\src\\distrs\\beta.jl:3\n",
      "in expression starting at C:\\Users\\m7mdf\\.julia\\packages\\StatsFuns\\PAbJ9\\src\\StatsFuns.jl:3\n",
      "\u001b[91m\u001b[1mERROR: \u001b[22m\u001b[39mLoadError: Failed to precompile StatsFuns [4c63d2b9-4356-54db-8cca-17b64c39e42c] to C:\\Users\\m7mdf\\.julia\\compiled\\v1.7\\StatsFuns\\jl_6BB9.tmp.\n",
      "Stacktrace:\n",
      "  [1] \u001b[0m\u001b[1merror\u001b[22m\u001b[0m\u001b[1m(\u001b[22m\u001b[90ms\u001b[39m::\u001b[0mString\u001b[0m\u001b[1m)\u001b[22m\n",
      "\u001b[90m    @ \u001b[39m\u001b[90mBase\u001b[39m \u001b[90m.\\\u001b[39m\u001b[90m\u001b[4merror.jl:33\u001b[24m\u001b[39m\n",
      "  [2] \u001b[0m\u001b[1mcompilecache\u001b[22m\u001b[0m\u001b[1m(\u001b[22m\u001b[90mpkg\u001b[39m::\u001b[0mBase.PkgId, \u001b[90mpath\u001b[39m::\u001b[0mString, \u001b[90minternal_stderr\u001b[39m::\u001b[0mIO, \u001b[90minternal_stdout\u001b[39m::\u001b[0mIO, \u001b[90mignore_loaded_modules\u001b[39m::\u001b[0mBool\u001b[0m\u001b[1m)\u001b[22m\n",
      "\u001b[90m    @ \u001b[39m\u001b[90mBase\u001b[39m \u001b[90m.\\\u001b[39m\u001b[90m\u001b[4mloading.jl:1466\u001b[24m\u001b[39m\n",
      "  [3] \u001b[0m\u001b[1mcompilecache\u001b[22m\u001b[0m\u001b[1m(\u001b[22m\u001b[90mpkg\u001b[39m::\u001b[0mBase.PkgId, \u001b[90mpath\u001b[39m::\u001b[0mString\u001b[0m\u001b[1m)\u001b[22m\n",
      "\u001b[90m    @ \u001b[39m\u001b[90mBase\u001b[39m \u001b[90m.\\\u001b[39m\u001b[90m\u001b[4mloading.jl:1410\u001b[24m\u001b[39m\n",
      "  [4] \u001b[0m\u001b[1m_require\u001b[22m\u001b[0m\u001b[1m(\u001b[22m\u001b[90mpkg\u001b[39m::\u001b[0mBase.PkgId\u001b[0m\u001b[1m)\u001b[22m\n",
      "\u001b[90m    @ \u001b[39m\u001b[90mBase\u001b[39m \u001b[90m.\\\u001b[39m\u001b[90m\u001b[4mloading.jl:1120\u001b[24m\u001b[39m\n",
      "  [5] \u001b[0m\u001b[1mrequire\u001b[22m\u001b[0m\u001b[1m(\u001b[22m\u001b[90muuidkey\u001b[39m::\u001b[0mBase.PkgId\u001b[0m\u001b[1m)\u001b[22m\n",
      "\u001b[90m    @ \u001b[39m\u001b[90mBase\u001b[39m \u001b[90m.\\\u001b[39m\u001b[90m\u001b[4mloading.jl:1013\u001b[24m\u001b[39m\n",
      "  [6] \u001b[0m\u001b[1mrequire\u001b[22m\u001b[0m\u001b[1m(\u001b[22m\u001b[90minto\u001b[39m::\u001b[0mModule, \u001b[90mmod\u001b[39m::\u001b[0mSymbol\u001b[0m\u001b[1m)\u001b[22m\n",
      "\u001b[90m    @ \u001b[39m\u001b[90mBase\u001b[39m \u001b[90m.\\\u001b[39m\u001b[90m\u001b[4mloading.jl:997\u001b[24m\u001b[39m\n",
      "  [7] \u001b[0m\u001b[1minclude\u001b[22m\n",
      "\u001b[90m    @ \u001b[39m\u001b[90m.\\\u001b[39m\u001b[90m\u001b[4mBase.jl:418\u001b[24m\u001b[39m\u001b[90m [inlined]\u001b[39m\n",
      "  [8] \u001b[0m\u001b[1minclude_package_for_output\u001b[22m\u001b[0m\u001b[1m(\u001b[22m\u001b[90mpkg\u001b[39m::\u001b[0mBase.PkgId, \u001b[90minput\u001b[39m::\u001b[0mString, \u001b[90mdepot_path\u001b[39m::\u001b[0mVector\u001b[90m{String}\u001b[39m, \u001b[90mdl_load_path\u001b[39m::\u001b[0mVector\u001b[90m{String}\u001b[39m, \u001b[90mload_path\u001b[39m::\u001b[0mVector\u001b[90m{String}\u001b[39m, \u001b[90mconcrete_deps\u001b[39m::\u001b[0mVector\u001b[90m{Pair{Base.PkgId, UInt64}}\u001b[39m, \u001b[90msource\u001b[39m::\u001b[0mString\u001b[0m\u001b[1m)\u001b[22m\n",
      "\u001b[90m    @ \u001b[39m\u001b[90mBase\u001b[39m \u001b[90m.\\\u001b[39m\u001b[90m\u001b[4mloading.jl:1318\u001b[24m\u001b[39m\n",
      "  [9] top-level scope\n",
      "\u001b[90m    @ \u001b[39m\u001b[90m\u001b[4mnone:1\u001b[24m\u001b[39m\n",
      " [10] \u001b[0m\u001b[1meval\u001b[22m\n",
      "\u001b[90m    @ \u001b[39m\u001b[90m.\\\u001b[39m\u001b[90m\u001b[4mboot.jl:373\u001b[24m\u001b[39m\u001b[90m [inlined]\u001b[39m\n",
      " [11] \u001b[0m\u001b[1meval\u001b[22m\u001b[0m\u001b[1m(\u001b[22m\u001b[90mx\u001b[39m::\u001b[0mExpr\u001b[0m\u001b[1m)\u001b[22m\n",
      "\u001b[90m    @ \u001b[39m\u001b[90mBase.MainInclude\u001b[39m \u001b[90m.\\\u001b[39m\u001b[90m\u001b[4mclient.jl:453\u001b[24m\u001b[39m\n",
      " [12] top-level scope\n",
      "\u001b[90m    @ \u001b[39m\u001b[90m\u001b[4mnone:1\u001b[24m\u001b[39m\n",
      "in expression starting at C:\\Users\\m7mdf\\.julia\\packages\\Distributions\\O4ZJg\\src\\Distributions.jl:1\n",
      "\u001b[91m\u001b[1mERROR: \u001b[22m\u001b[39mLoadError: Failed to precompile Distributions [31c24e10-a181-5473-b8eb-7969acd0382f] to C:\\Users\\m7mdf\\.julia\\compiled\\v1.7\\Distributions\\jl_690A.tmp.\n",
      "Stacktrace:\n",
      "  [1] \u001b[0m\u001b[1merror\u001b[22m\u001b[0m\u001b[1m(\u001b[22m\u001b[90ms\u001b[39m::\u001b[0mString\u001b[0m\u001b[1m)\u001b[22m\n",
      "\u001b[90m    @ \u001b[39m\u001b[90mBase\u001b[39m \u001b[90m.\\\u001b[39m\u001b[90m\u001b[4merror.jl:33\u001b[24m\u001b[39m\n",
      "  [2] \u001b[0m\u001b[1mcompilecache\u001b[22m\u001b[0m\u001b[1m(\u001b[22m\u001b[90mpkg\u001b[39m::\u001b[0mBase.PkgId, \u001b[90mpath\u001b[39m::\u001b[0mString, \u001b[90minternal_stderr\u001b[39m::\u001b[0mIO, \u001b[90minternal_stdout\u001b[39m::\u001b[0mIO, \u001b[90mignore_loaded_modules\u001b[39m::\u001b[0mBool\u001b[0m\u001b[1m)\u001b[22m\n",
      "\u001b[90m    @ \u001b[39m\u001b[90mBase\u001b[39m \u001b[90m.\\\u001b[39m\u001b[90m\u001b[4mloading.jl:1466\u001b[24m\u001b[39m\n",
      "  [3] \u001b[0m\u001b[1mcompilecache\u001b[22m\u001b[0m\u001b[1m(\u001b[22m\u001b[90mpkg\u001b[39m::\u001b[0mBase.PkgId, \u001b[90mpath\u001b[39m::\u001b[0mString\u001b[0m\u001b[1m)\u001b[22m\n",
      "\u001b[90m    @ \u001b[39m\u001b[90mBase\u001b[39m \u001b[90m.\\\u001b[39m\u001b[90m\u001b[4mloading.jl:1410\u001b[24m\u001b[39m\n",
      "  [4] \u001b[0m\u001b[1m_require\u001b[22m\u001b[0m\u001b[1m(\u001b[22m\u001b[90mpkg\u001b[39m::\u001b[0mBase.PkgId\u001b[0m\u001b[1m)\u001b[22m\n",
      "\u001b[90m    @ \u001b[39m\u001b[90mBase\u001b[39m \u001b[90m.\\\u001b[39m\u001b[90m\u001b[4mloading.jl:1120\u001b[24m\u001b[39m\n",
      "  [5] \u001b[0m\u001b[1mrequire\u001b[22m\u001b[0m\u001b[1m(\u001b[22m\u001b[90muuidkey\u001b[39m::\u001b[0mBase.PkgId\u001b[0m\u001b[1m)\u001b[22m\n",
      "\u001b[90m    @ \u001b[39m\u001b[90mBase\u001b[39m \u001b[90m.\\\u001b[39m\u001b[90m\u001b[4mloading.jl:1013\u001b[24m\u001b[39m\n",
      "  [6] \u001b[0m\u001b[1mrequire\u001b[22m\u001b[0m\u001b[1m(\u001b[22m\u001b[90minto\u001b[39m::\u001b[0mModule, \u001b[90mmod\u001b[39m::\u001b[0mSymbol\u001b[0m\u001b[1m)\u001b[22m\n",
      "\u001b[90m    @ \u001b[39m\u001b[90mBase\u001b[39m \u001b[90m.\\\u001b[39m\u001b[90m\u001b[4mloading.jl:997\u001b[24m\u001b[39m\n",
      "  [7] \u001b[0m\u001b[1minclude\u001b[22m\n",
      "\u001b[90m    @ \u001b[39m\u001b[90m.\\\u001b[39m\u001b[90m\u001b[4mBase.jl:418\u001b[24m\u001b[39m\u001b[90m [inlined]\u001b[39m\n",
      "  [8] \u001b[0m\u001b[1minclude_package_for_output\u001b[22m\u001b[0m\u001b[1m(\u001b[22m\u001b[90mpkg\u001b[39m::\u001b[0mBase.PkgId, \u001b[90minput\u001b[39m::\u001b[0mString, \u001b[90mdepot_path\u001b[39m::\u001b[0mVector\u001b[90m{String}\u001b[39m, \u001b[90mdl_load_path\u001b[39m::\u001b[0mVector\u001b[90m{String}\u001b[39m, \u001b[90mload_path\u001b[39m::\u001b[0mVector\u001b[90m{String}\u001b[39m, \u001b[90mconcrete_deps\u001b[39m::\u001b[0mVector\u001b[90m{Pair{Base.PkgId, UInt64}}\u001b[39m, \u001b[90msource\u001b[39m::\u001b[0mString\u001b[0m\u001b[1m)\u001b[22m\n",
      "\u001b[90m    @ \u001b[39m\u001b[90mBase\u001b[39m \u001b[90m.\\\u001b[39m\u001b[90m\u001b[4mloading.jl:1318\u001b[24m\u001b[39m\n",
      "  [9] top-level scope\n",
      "\u001b[90m    @ \u001b[39m\u001b[90m\u001b[4mnone:1\u001b[24m\u001b[39m\n",
      " [10] \u001b[0m\u001b[1meval\u001b[22m\n",
      "\u001b[90m    @ \u001b[39m\u001b[90m.\\\u001b[39m\u001b[90m\u001b[4mboot.jl:373\u001b[24m\u001b[39m\u001b[90m [inlined]\u001b[39m\n",
      " [11] \u001b[0m\u001b[1meval\u001b[22m\u001b[0m\u001b[1m(\u001b[22m\u001b[90mx\u001b[39m::\u001b[0mExpr\u001b[0m\u001b[1m)\u001b[22m\n",
      "\u001b[90m    @ \u001b[39m\u001b[90mBase.MainInclude\u001b[39m \u001b[90m.\\\u001b[39m\u001b[90m\u001b[4mclient.jl:453\u001b[24m\u001b[39m\n",
      " [12] top-level scope\n",
      "\u001b[90m    @ \u001b[39m\u001b[90m\u001b[4mnone:1\u001b[24m\u001b[39m\n",
      "in expression starting at C:\\Users\\m7mdf\\.julia\\packages\\Symbolics\\1OrKJ\\src\\Symbolics.jl:1\n",
      "\u001b[91m\u001b[1mERROR: \u001b[22m\u001b[39mLoadError: Failed to precompile Symbolics [0c5d862f-8b57-4792-8d23-62f2024744c7] to C:\\Users\\m7mdf\\.julia\\compiled\\v1.7\\Symbolics\\jl_342F.tmp.\n",
      "Stacktrace:\n",
      "  [1] \u001b[0m\u001b[1merror\u001b[22m\u001b[0m\u001b[1m(\u001b[22m\u001b[90ms\u001b[39m::\u001b[0mString\u001b[0m\u001b[1m)\u001b[22m\n",
      "\u001b[90m    @ \u001b[39m\u001b[90mBase\u001b[39m \u001b[90m.\\\u001b[39m\u001b[90m\u001b[4merror.jl:33\u001b[24m\u001b[39m\n",
      "  [2] \u001b[0m\u001b[1mcompilecache\u001b[22m\u001b[0m\u001b[1m(\u001b[22m\u001b[90mpkg\u001b[39m::\u001b[0mBase.PkgId, \u001b[90mpath\u001b[39m::\u001b[0mString, \u001b[90minternal_stderr\u001b[39m::\u001b[0mIO, \u001b[90minternal_stdout\u001b[39m::\u001b[0mIO, \u001b[90mignore_loaded_modules\u001b[39m::\u001b[0mBool\u001b[0m\u001b[1m)\u001b[22m\n",
      "\u001b[90m    @ \u001b[39m\u001b[90mBase\u001b[39m \u001b[90m.\\\u001b[39m\u001b[90m\u001b[4mloading.jl:1466\u001b[24m\u001b[39m\n",
      "  [3] \u001b[0m\u001b[1mcompilecache\u001b[22m\u001b[0m\u001b[1m(\u001b[22m\u001b[90mpkg\u001b[39m::\u001b[0mBase.PkgId, \u001b[90mpath\u001b[39m::\u001b[0mString\u001b[0m\u001b[1m)\u001b[22m\n",
      "\u001b[90m    @ \u001b[39m\u001b[90mBase\u001b[39m \u001b[90m.\\\u001b[39m\u001b[90m\u001b[4mloading.jl:1410\u001b[24m\u001b[39m\n",
      "  [4] \u001b[0m\u001b[1m_require\u001b[22m\u001b[0m\u001b[1m(\u001b[22m\u001b[90mpkg\u001b[39m::\u001b[0mBase.PkgId\u001b[0m\u001b[1m)\u001b[22m\n",
      "\u001b[90m    @ \u001b[39m\u001b[90mBase\u001b[39m \u001b[90m.\\\u001b[39m\u001b[90m\u001b[4mloading.jl:1120\u001b[24m\u001b[39m\n",
      "  [5] \u001b[0m\u001b[1mrequire\u001b[22m\u001b[0m\u001b[1m(\u001b[22m\u001b[90muuidkey\u001b[39m::\u001b[0mBase.PkgId\u001b[0m\u001b[1m)\u001b[22m\n",
      "\u001b[90m    @ \u001b[39m\u001b[90mBase\u001b[39m \u001b[90m.\\\u001b[39m\u001b[90m\u001b[4mloading.jl:1013\u001b[24m\u001b[39m\n",
      "  [6] \u001b[0m\u001b[1mrequire\u001b[22m\u001b[0m\u001b[1m(\u001b[22m\u001b[90minto\u001b[39m::\u001b[0mModule, \u001b[90mmod\u001b[39m::\u001b[0mSymbol\u001b[0m\u001b[1m)\u001b[22m\n",
      "\u001b[90m    @ \u001b[39m\u001b[90mBase\u001b[39m \u001b[90m.\\\u001b[39m\u001b[90m\u001b[4mloading.jl:997\u001b[24m\u001b[39m\n",
      "  [7] \u001b[0m\u001b[1minclude\u001b[22m\n",
      "\u001b[90m    @ \u001b[39m\u001b[90m.\\\u001b[39m\u001b[90m\u001b[4mBase.jl:418\u001b[24m\u001b[39m\u001b[90m [inlined]\u001b[39m\n",
      "  [8] \u001b[0m\u001b[1minclude_package_for_output\u001b[22m\u001b[0m\u001b[1m(\u001b[22m\u001b[90mpkg\u001b[39m::\u001b[0mBase.PkgId, \u001b[90minput\u001b[39m::\u001b[0mString, \u001b[90mdepot_path\u001b[39m::\u001b[0mVector\u001b[90m{String}\u001b[39m, \u001b[90mdl_load_path\u001b[39m::\u001b[0mVector\u001b[90m{String}\u001b[39m, \u001b[90mload_path\u001b[39m::\u001b[0mVector\u001b[90m{String}\u001b[39m, \u001b[90mconcrete_deps\u001b[39m::\u001b[0mVector\u001b[90m{Pair{Base.PkgId, UInt64}}\u001b[39m, \u001b[90msource\u001b[39m::\u001b[0mNothing\u001b[0m\u001b[1m)\u001b[22m\n",
      "\u001b[90m    @ \u001b[39m\u001b[90mBase\u001b[39m \u001b[90m.\\\u001b[39m\u001b[90m\u001b[4mloading.jl:1318\u001b[24m\u001b[39m\n",
      "  [9] top-level scope\n",
      "\u001b[90m    @ \u001b[39m\u001b[90m\u001b[4mnone:1\u001b[24m\u001b[39m\n",
      " [10] \u001b[0m\u001b[1meval\u001b[22m\n",
      "\u001b[90m    @ \u001b[39m\u001b[90m.\\\u001b[39m\u001b[90m\u001b[4mboot.jl:373\u001b[24m\u001b[39m\u001b[90m [inlined]\u001b[39m\n",
      " [11] \u001b[0m\u001b[1meval\u001b[22m\u001b[0m\u001b[1m(\u001b[22m\u001b[90mx\u001b[39m::\u001b[0mExpr\u001b[0m\u001b[1m)\u001b[22m\n",
      "\u001b[90m    @ \u001b[39m\u001b[90mBase.MainInclude\u001b[39m \u001b[90m.\\\u001b[39m\u001b[90m\u001b[4mclient.jl:453\u001b[24m\u001b[39m\n",
      " [12] top-level scope\n",
      "\u001b[90m    @ \u001b[39m\u001b[90m\u001b[4mnone:1\u001b[24m\u001b[39m\n",
      "in expression starting at C:\\Users\\m7mdf\\Apophis.jl\\src\\Apophis.jl:1\n"
     ]
    },
    {
     "ename": "LoadError",
     "evalue": "Failed to precompile Apophis [cf72b054-1e85-4718-a3f4-02cfdc10a054] to C:\\Users\\m7mdf\\.julia\\compiled\\v1.7\\Apophis\\jl_3315.tmp.",
     "output_type": "error",
     "traceback": [
      "Failed to precompile Apophis [cf72b054-1e85-4718-a3f4-02cfdc10a054] to C:\\Users\\m7mdf\\.julia\\compiled\\v1.7\\Apophis\\jl_3315.tmp.",
      "",
      "Stacktrace:",
      " [1] error(s::String)",
      "   @ Base .\\error.jl:33",
      " [2] compilecache(pkg::Base.PkgId, path::String, internal_stderr::IO, internal_stdout::IO, ignore_loaded_modules::Bool)",
      "   @ Base .\\loading.jl:1466",
      " [3] compilecache(pkg::Base.PkgId, path::String)",
      "   @ Base .\\loading.jl:1410",
      " [4] _require(pkg::Base.PkgId)",
      "   @ Base .\\loading.jl:1120",
      " [5] require(uuidkey::Base.PkgId)",
      "   @ Base .\\loading.jl:1013",
      " [6] require(into::Module, mod::Symbol)",
      "   @ Base .\\loading.jl:997",
      " [7] eval",
      "   @ .\\boot.jl:373 [inlined]",
      " [8] include_string(mapexpr::typeof(REPL.softscope), mod::Module, code::String, filename::String)",
      "   @ Base .\\loading.jl:1196"
     ]
    }
   ],
   "source": [
    "using Apophis, BenchmarkTools\n",
    "using Symbolics: build_function, jacobian, derivative, Num, @variables\n",
    "using LinearAlgebra\n",
    "using SparseArrays: sparse, SparseMatrixCSC\n",
    "using DifferentialEquations: ODEProblem, solve\n",
    "using Sundials: CVODE_BDF"
   ]
  },
  {
   "cell_type": "code",
   "execution_count": 7,
   "metadata": {},
   "outputs": [],
   "source": [
    "P₀ = only(@variables P₀)\n",
    "T = only(@variables T)\n",
    "Y = collect(only(@variables Y[1:53]));\n",
    "T₀ = only(@variables T₀)\n",
    "Y₀ = collect(only(@variables Y₀[1:53]));"
   ]
  },
  {
   "cell_type": "code",
   "execution_count": 8,
   "metadata": {},
   "outputs": [],
   "source": [
    "#init(:H2, 1000.0, 1.59e6, H2 = 0.29, N2 = 0.56, O2 = 0.15)\n",
    "#init(:GRI3, 1000.0, CH4 = 0.5, N2 = 0.75, O2 = 0.20)\n",
    "#init(:H2, T₀, P₀, Y₀);\n",
    "init(:GRI3, T₀, P₀, Y₀)"
   ]
  },
  {
   "cell_type": "code",
   "execution_count": 9,
   "metadata": {},
   "outputs": [],
   "source": [
    "## Symbolically\n",
    "#step!(gas, Y₀, T₀)\n",
    "step!(gas, Y, T)\n",
    "\n",
    "## Numerically\n",
    "#step!(gas, gas.initial.mass_fractions, gas.initial.temperature)\n",
    "#step!(gas, gas.current.mass_fractions, gas.current.temperature)"
   ]
  },
  {
   "cell_type": "markdown",
   "metadata": {},
   "source": [
    "### $$ A = \\begin{bmatrix} \\bm{a} & \\bm{b}\\\\ \\bm{c} &d \\end{bmatrix} $$ \n",
    "\n",
    "$$ \\bm{a} = \\frac{∂\\bm{Ẏ}}{∂\\bm{Y}}\\ \\ [ns\\times ns], \\ \\ \\bm{b} = \\frac{d\\bm{Ẏ}}{dT}\\ \\ [ns\\times 1]$$\n",
    "$$ \\bm{c} = \\frac{d\\bm{Ẏ}}{dT} \\ \\ [1\\times ns], \\ \\ d =  \\frac{dṪ}{dT}\\ \\ [1\\times 1]$$"
   ]
  },
  {
   "cell_type": "code",
   "execution_count": 26,
   "metadata": {},
   "outputs": [],
   "source": [
    "dṪ = only(gas.intermediate.temperature_change_rate)\n",
    "dẎ = gas.intermediate.mass_change_rate\n",
    "q = vcat(dẎ, dṪ)\n",
    "u = vcat(Y, T)\n",
    "\n",
    "A = jacobian(q, u);\n",
    "_, A_expr = build_function(A, Y, T, Y₀, T₀, P₀)\n",
    "A_function = eval(A_expr);"
   ]
  },
  {
   "cell_type": "markdown",
   "metadata": {},
   "source": [
    "### <center>Jacobian Trials</center>"
   ]
  },
  {
   "cell_type": "code",
   "execution_count": 17,
   "metadata": {},
   "outputs": [],
   "source": [
    "A = zeros(54, 54);\n",
    "init(:GRI3, 1000.0, CH4 = 0.05, N2 = 0.75, O2 = 0.20)\n",
    "step!(gas, gas.initial.mass_fractions, gas.initial.temperature)"
   ]
  },
  {
   "cell_type": "code",
   "execution_count": 50,
   "metadata": {},
   "outputs": [
    {
     "name": "stdout",
     "output_type": "stream",
     "text": [
      "  37.374 ms (24101 allocations: 1.61 MiB)\n"
     ]
    },
    {
     "data": {
      "text/plain": [
       "retcode: Success\n",
       "Interpolation: 3rd order Hermite\n",
       "t: 35-element Vector{Float64}:\n",
       " 0.9\n",
       " 0.8989302861365588\n",
       " 0.7977613678546672\n",
       " 0.44085621706059536\n",
       " 0.40677059535453586\n",
       " 0.37268497364847636\n",
       " 0.33859935194241686\n",
       " 0.30451373023635736\n",
       " 0.2971285478802605\n",
       " 0.28974336552416363\n",
       " 0.28235818316806677\n",
       " 0.26932993512087167\n",
       " 0.25630168707367657\n",
       " ⋮\n",
       " 0.1656558492785666\n",
       " 0.16194672469111526\n",
       " 0.15823760010366392\n",
       " 0.15149018416701754\n",
       " 0.14474276823037116\n",
       " 0.13799535229372478\n",
       " 0.1312479363570784\n",
       " 0.1241820967643194\n",
       " 0.1171162571715604\n",
       " 0.11005041757880141\n",
       " 0.10298457798604241\n",
       " 0.1\n",
       "u: 35-element Vector{Vector{Float64}}:\n",
       " [0.0, 0.0, 0.0, 0.0, 0.0, 0.0, 0.0, 0.0, 0.0, 0.0, 0.0]\n",
       " [-9.81232078010744e-13, 7.143766504941305e-18, -5.20933826662977e-13, -8.346905665476383e-14, -4.742699218925251e-13, 5.350598900883399e-19, -9.059142557082964e-23, 1.4310387831890401e-13, 2.0133399871538316e-13, 1.3999887690201916e-23, -4.8640637436282345e-16]\n",
       " [-9.687660252043518e-10, 7.197252943303082e-15, -1.4120491107931102e-10, -6.84980967623908e-11, -7.74691787680278e-11, 8.041195793535945e-17, -8.792644270080287e-20, -6.587216398575521e-11, -4.4806953026558485e-11, 1.3466858353601222e-20, -2.344805268760039e-14]\n",
       " [-1.2954305525554105e-8, 9.619299610865698e-14, -1.849663413053469e-9, -9.121368029264371e-10, -9.955686528844362e-10, 1.0304368945640995e-15, -1.337096795535433e-18, -9.022760291521295e-10, -6.243164097547803e-10, 1.280221839930213e-19, -2.6638596659611e-13]\n",
       " [-1.273808412876046e-8, 9.397113776348902e-14, -1.8034350295624013e-9, -8.953497793237394e-10, -9.628695922946197e-10, 1.164026520340298e-15, -1.130867037710597e-16, -8.952993376870544e-10, -6.239189045095264e-10, -2.988587700500003e-17, -2.431420897556739e-13]\n",
       " [-7.585918984822195e-9, 5.314951757878571e-14, -1.0152293167225862e-9, -5.273207780089678e-10, -5.118665073318273e-10, 9.249747928716977e-16, -4.787999817039271e-16, -5.649622559181999e-10, -4.0993452858608246e-10, -1.3293609738021833e-16, -7.285234665991805e-14]\n",
       " [7.801300344739774e-9, -6.092249585810004e-14, 1.289994504227897e-9, 5.665261418370572e-10, 7.83975971177435e-10, -4.506583050219956e-16, -4.754701078893114e-16, 4.454409753933663e-10, 2.6096987200590484e-10, -1.3187876939618872e-16, 3.759968714599144e-13]\n",
       " [8.333703094931489e-8, -6.203766488606319e-13, 1.2715707508300846e-8, 5.947084075259758e-9, 7.259820347763207e-9, -7.291266122059746e-15, -4.528972743111937e-16, 5.350660737823465e-9, 3.483058423227594e-9, -1.220101641645019e-16, 2.71330562592711e-12]\n",
       " [1.0547551339264162e-7, -7.848588809579026e-13, 1.6166594492034297e-8, 7.53259005242346e-9, 9.264803376491935e-9, -8.864627057174322e-15, -5.967943481494895e-16, 6.735150921194189e-9, 4.3607308347199164e-9, -1.5648135106728005e-16, 3.5234111073132763e-12]\n",
       " [1.3420063997523317e-7, -9.980187808191915e-13, 2.060892787136988e-8, 9.587208264336932e-9, 1.1829378556036715e-8, -1.1564657670233933e-14, -5.954419868920473e-16, 8.541857170582212e-9, 5.5224486041611946e-9, -1.5716240483286984e-16, 4.5313737212745975e-12]\n",
       " [1.7216523447355188e-7, -1.2805912369466947e-12, 2.6494808296570483e-8, 1.2304902348092493e-8, 1.5234211612519224e-8, -1.477989701251802e-14, -7.695421682910189e-16, 1.0930943845933014e-8, 7.048360774423236e-9, -2.0410961577058815e-16, 5.881499914918673e-12]\n",
       " [2.62238857805604e-7, -1.951759349253137e-12, 4.045924993504361e-8, 1.875290301401767e-8, 2.3312186588335612e-8, -2.232788052296444e-14, -1.3133086133321876e-15, 1.6594841117880268e-8, 1.066878102246327e-8, -3.5115987372842297e-16, 9.084503313911211e-12]\n",
       " [4.0046379073669204e-7, -2.9807249223527145e-12, 6.196377829950174e-8, 2.8652973627568742e-8, 3.578702709266668e-8, -3.395671226366529e-14, -2.0474875878984013e-15, 2.5241351311178686e-8, 1.617557544024428e-8, -5.465937346727976e-16, 1.409159320774018e-11]\n",
       " ⋮\n",
       " [1.0800547658263486e-5, -8.032163283537572e-11, 1.695285842026152e-6, 7.749772867738069e-7, 9.904374399396855e-7, -9.606641905772761e-13, -3.988186842860811e-14, 6.674008203353513e-7, 4.205074056759582e-7, -1.0765541350400367e-14, 4.095752627515177e-10]\n",
       " [1.2422695478053615e-5, -9.24003267309585e-11, 1.9503711273498373e-6, 8.91423495611265e-7, 1.1396828064715502e-6, -1.0975903016958628e-12, -4.9451759038935655e-14, 7.674544060410149e-7, 4.833590338919532e-7, -1.3306839252999735e-14, 4.716629920598559e-10]\n",
       " [1.4293800461054555e-5, -1.0633944934218063e-10, 2.2446549092803722e-6, 1.025751380946711e-6, 1.3118853619299213e-6, -1.2524100124949326e-12, -6.209336319017976e-14, 8.828459518688336e-7, 5.558244233732583e-7, -1.665226467850765e-14, 5.433402634731019e-10]\n",
       " [1.8479856732475362e-5, -1.3755065385005605e-10, 2.903141172461511e-6, 1.3262966693975447e-6, 1.6972554516013048e-6, -1.585772445325221e-12, -9.659281302806948e-14, 1.1410024569859387e-6, 7.178727633900661e-7, -2.5743204847009512e-14, 7.038337735612709e-10]\n",
       " [2.3909599949506996e-5, -1.7808932187041222e-10, 3.7573466497393574e-6, 1.7161758728072524e-6, 2.197205149725221e-6, -1.9909491644205882e-12, -1.5412657172487095e-13, 1.475999609870966e-6, 9.28014904584937e-7, -4.0837105271578534e-14, 9.121098641789123e-10]\n",
       " [3.0957659308602364e-5, -2.3080867253784143e-10, 4.8661112456505415e-6, 2.222315004024054e-6, 2.8461276300467996e-6, -2.4679328625721945e-12, -2.5166272505902297e-13, 1.9111853359948286e-6, 1.2008148751405241e-6, -6.633509331235155e-14, 1.182420293870627e-9]\n",
       " [4.0125444910996885e-5, -2.995451979605399e-10, 6.308270268780621e-6, 2.880754534469704e-6, 3.690142204680432e-6, -3.007882403983894e-12, -4.162025189884964e-13, 2.4777213081595863e-6, 1.5557107779855893e-6, -1.092315045186701e-13, 1.5339414351547385e-9]\n",
       " [5.269873482525899e-5, -3.9409991000367286e-10, 8.285950425176331e-6, 3.7839136674611968e-6, 4.8474796175868395e-6, -3.6075611642082187e-12, -7.079572085785809e-13, 3.2556520772057626e-6, 2.042570787107695e-6, -1.851387414246293e-13, 2.0158078355944255e-9]\n",
       " [6.929694000641668e-5, -5.194392485251469e-10, 1.0896299049622607e-5, 4.976437928081981e-6, 6.374860425101075e-6, -4.146500113736215e-12, -1.2118306953716566e-12, 4.284468494146052e-6, 2.6855744381363863e-6, -3.1603059554307373e-13, 2.6514134422990592e-9]\n",
       " [9.127229684332863e-5, -6.862994239107326e-10, 1.4351348698813487e-5, 6.555698745907139e-6, 8.396059137775533e-6, -4.415956964349108e-12, -2.0880310045138613e-12, 5.6497562444792095e-6, 3.537533469221533e-6, -5.433807041304227e-13, 3.4917688326374776e-9]\n",
       " [0.0001204595881221011, -9.095484096594551e-10, 1.8938166132293436e-5, 8.653897091769546e-6, 1.1078359651449999e-5, -3.997617330417762e-12, -3.6189354845291862e-12, 7.468950521636164e-6, 4.670527769085915e-6, -9.403168802324249e-13, 4.605316295971468e-9]\n",
       " [0.00013551825950718912, -1.0254314619446124e-9, 2.130365202244293e-5, 9.736695056541081e-6, 1.2461195810754965e-5, -3.4518977369290347e-12, -4.565431199917126e-12, 8.410145760531275e-6, 5.255754011480698e-6, -1.1856535271276084e-12, 5.178603578647161e-9]"
      ]
     },
     "execution_count": 50,
     "metadata": {},
     "output_type": "execute_result"
    }
   ],
   "source": [
    "tstart = time()\n",
    "sol = backward(gas)\n",
    "tend = time()\n",
    "println(tend - tstart, \" - \", sol.retcode)"
   ]
  },
  {
   "cell_type": "code",
   "execution_count": 8,
   "metadata": {},
   "outputs": [],
   "source": [
    "open(\"./jac/H2.jl\", \"a\") do io\n",
    "   println(io, A_expr)\n",
    "   #replace(io, \"(ˍ₋out, ˍ₋arg1, T, ˍ₋arg3, T₀, P₀)\" => \"jac(ˍ₋out, ˍ₋arg1, T, ˍ₋arg3, T₀, P₀)\")\n",
    "end"
   ]
  }
 ],
 "metadata": {
  "kernelspec": {
   "display_name": "Julia 1.7.1",
   "language": "julia",
   "name": "julia-1.7"
  },
  "language_info": {
   "file_extension": ".jl",
   "mimetype": "application/julia",
   "name": "julia",
   "version": "1.7.1"
  }
 },
 "nbformat": 4,
 "nbformat_minor": 2
}
